{
 "cells": [
  {
   "cell_type": "markdown",
   "metadata": {},
   "source": [
    "#### Product recommendations in natural language using RAG and LLM\n",
    " - Embed user query using same embedding model as the vector database.(Sentence-Transformers)\n",
    " - Retrieve similar products using similarity search by query or by embeddings. (ChromaDB)\n",
    " - Generate a Natural Language Response using an LLM.\n",
    "    - Open source models: LLaMA-2/Mistral/Gemma/Phi-2\n",
    "    - ChatOpen AI  gpt-4"
   ]
  },
  {
   "cell_type": "markdown",
   "metadata": {},
   "source": [
    "#### Load Pretrained Embedding Model"
   ]
  },
  {
   "cell_type": "code",
   "execution_count": 2,
   "metadata": {},
   "outputs": [
    {
     "name": "stderr",
     "output_type": "stream",
     "text": [
      "/var/folders/y4/z3s1vk012bv7p_188zpx6w3c0000gn/T/ipykernel_60615/2398591998.py:8: LangChainDeprecationWarning: The class `HuggingFaceEmbeddings` was deprecated in LangChain 0.2.2 and will be removed in 1.0. An updated version of the class exists in the :class:`~langchain-huggingface package and should be used instead. To use it run `pip install -U :class:`~langchain-huggingface` and import as `from :class:`~langchain_huggingface import HuggingFaceEmbeddings``.\n",
      "  embeddings = HuggingFaceEmbeddings(model_name=\"sentence-transformers/all-MiniLM-L6-v2\")\n",
      "/var/folders/y4/z3s1vk012bv7p_188zpx6w3c0000gn/T/ipykernel_60615/2398591998.py:9: LangChainDeprecationWarning: The class `Chroma` was deprecated in LangChain 0.2.9 and will be removed in 1.0. An updated version of the class exists in the :class:`~langchain-chroma package and should be used instead. To use it run `pip install -U :class:`~langchain-chroma` and import as `from :class:`~langchain_chroma import Chroma``.\n",
      "  vectorstore = Chroma(embedding_function=embeddings, persist_directory=PERSIST_DIRECTORY)  # Pass embeddings to Chroma\n"
     ]
    }
   ],
   "source": [
    "from langchain.embeddings import HuggingFaceEmbeddings\n",
    "from langchain.vectorstores import Chroma\n",
    "\n",
    "# Define the storage path\n",
    "PERSIST_DIRECTORY = \"chromadb_vectorstore\"\n",
    "\n",
    "# Initialize ChromaDB and OpenAI embeddings\n",
    "embeddings = HuggingFaceEmbeddings(model_name=\"sentence-transformers/all-MiniLM-L6-v2\")\n",
    "vectorstore = Chroma(embedding_function=embeddings, persist_directory=PERSIST_DIRECTORY)  # Pass embeddings to Chroma"
   ]
  },
  {
   "cell_type": "markdown",
   "metadata": {},
   "source": [
    "### Retrieve similar products"
   ]
  },
  {
   "cell_type": "code",
   "execution_count": 19,
   "metadata": {},
   "outputs": [],
   "source": [
    "### Retrieve Similar Products\n",
    "def retrieve_similar_products(query, top_k=5):\n",
    "    \"\"\"Retrieve the top-K similar products based on the query.\"\"\"\n",
    "    results = vectorstore.similarity_search(query, k=top_k)  # Get top 5 matches\n",
    "    \n",
    "    recommended_products = []\n",
    "    for doc in results:\n",
    "        recommended_products.append({\n",
    "            \"product_description\": doc.page_content,  # Retrieved text\n",
    "            \"product_image\": doc.metadata.get(\"image_url\", \"No image available\"),  # Image link\n",
    "        })\n",
    "    \n",
    "    return recommended_products\n",
    "\n",
    "# Example user query\n",
    "query = \"Find me Men's Sneaker in black color\"\n",
    "recommended_products = retrieve_similar_products(query)"
   ]
  },
  {
   "cell_type": "code",
   "execution_count": 20,
   "metadata": {},
   "outputs": [
    {
     "name": "stdout",
     "output_type": "stream",
     "text": [
      "Result 1:\n",
      "Product Description: men ' s sneakers in black and grey with red stripes Given Product description: , Care Instructions: Allow your pair of shoes to air and de-odorize at regular basis; Using a Shoe-horn to wear your shoes will avoid damage to the back of your shoes; Use Shoe bags to prevent any stains or mildew., brand: Amazon Brand - Symbol, weight: , color: Black/Blue, height: 1176.0, width: 2560.0, model year: , shape: , style: AZ-SH-05D_Black/Blue_11, material: Canvas, product_type: SHOES\n",
      "Product Image: No image available\n",
      "---\n",
      "Result 2:\n",
      "Product Description: a black sneaker with white soles Given Product description: , Designed in Europe - please refer to size chart for specific measurements to achieve the perfect fit, brand: find., weight: , color: Black (Black), height: 585.0, width: 1530.0, model year: 2017.0, shape: , style: Men's Retro Trainer Sneakers, material: , product_type: SHOES\n",
      "Product Image: No image available\n",
      "---\n",
      "Result 3:\n",
      "Product Description: a picture of a black leather sneaker Given Product description: , Care Instructions: Allow your pair of shoes to air and de-odorize at regular basis; Use Shoe bags to prevent any stains or mildew; Dust any dry dirt from the surface using a clean cloth; Do not use Polish or Shiner., brand: Amazon Brand - Inkast Denim Co., weight: , color: D.GREY, height: 1407.0, width: 2560.0, model year: , shape: , style: Sneakers, material: , product_type: SHOES\n",
      "Product Image: No image available\n",
      "---\n",
      "Result 4:\n",
      "Product Description: men ' s sneakers in white Given Product description: , Engineered for comfort, this sneaker includes an extra-thick foam cushioned insole for added support, brand: CARE OF by PUMA, weight: , color: White, height: 2560.0, width: 1969.0, model year: 2019.0, shape: , style: , material: Leather, product_type: SHOES\n",
      "Product Image: No image available\n",
      "---\n",
      "Result 5:\n",
      "Product Description: men ' s sneakers in white Given Product description: , Engineered for comfort, this sneaker includes an extra-thick foam cushioned insole for added support, brand: CARE OF by PUMA, weight: , color: White, height: 2560.0, width: 1969.0, model year: 2019.0, shape: , style: , material: Leather, product_type: SHOES\n",
      "Product Image: No image available\n",
      "---\n"
     ]
    }
   ],
   "source": [
    "# Print the recommended products\n",
    "for i, result in enumerate(recommended_products):\n",
    "    print(f\"Result {i+1}:\")\n",
    "    print(f\"Product Description: {result['product_description']}\")\n",
    "    print(f\"Product Image: {result['product_image']}\")\n",
    "    print(\"---\")"
   ]
  },
  {
   "cell_type": "markdown",
   "metadata": {},
   "source": [
    "#### Generate Natual Language Response using LLM"
   ]
  },
  {
   "cell_type": "code",
   "execution_count": null,
   "metadata": {},
   "outputs": [],
   "source": [
    "!pip install python-dotenv\n",
    "!pip install openai"
   ]
  },
  {
   "cell_type": "code",
   "execution_count": 15,
   "metadata": {},
   "outputs": [],
   "source": [
    "import os\n",
    "from dotenv import load_dotenv\n",
    "\n",
    "# Load environment variables from .env file\n",
    "load_dotenv()\n",
    "\n",
    "# Check if the API key is loaded correctly\n",
    "openai_api_key = os.getenv(\"OPENAI_API_KEY\")\n",
    "if not openai_api_key:\n",
    "    raise ValueError(\"OpenAI API key not found. Please set the OPENAI_API_KEY environment variable.\")"
   ]
  },
  {
   "cell_type": "code",
   "execution_count": null,
   "metadata": {},
   "outputs": [
    {
     "name": "stdout",
     "output_type": "stream",
     "text": [
      "Sure, I found a few options that you might like:\n",
      "\n",
      "1. The first one is a pair of men's sneakers by Amazon Brand - Symbol. They are black and grey with red stripes. They are made of canvas and come with care instructions to help them last longer. Unfortunately, there's no image available for this product.\n",
      "\n",
      "2. Next, we have a black sneaker with white soles by the brand 'find'. They were designed in Europe in 2017 and come with a size chart to ensure a perfect fit. Sadly, there's no image available for these shoes.\n",
      "\n",
      "3. The third option is a black leather sneaker by Amazon Brand - Inkast Denim Co. The color is listed as D.GREY. They also come with care instructions. However, there's no available image.\n",
      "\n",
      "4. Lastly, we have two similar options by CARE OF by PUMA. They are white men's sneakers, engineered for comfort with an extra-thick foam cushioned insole. Made of leather, they were released in 2019. There are no images available for these shoes.\n",
      "\n",
      "I hope one of these options will suit your needs!\n"
     ]
    }
   ],
   "source": [
    "from langchain.chat_models import ChatOpenAI\n",
    "\n",
    "# Load an LLM (GPT-4 for best responses, or use an open-source model)\n",
    "llm = ChatOpenAI(model_name=\"gpt-4\", temperature=0.7)\n",
    "\n",
    "def generate_natural_language_response(query, products):\n",
    "    \"\"\"Generate a response based on retrieved products using LLM.\"\"\"\n",
    "    prompt = f\"\"\"\n",
    "    A customer is looking for a product based on this query: \"{query}\"\n",
    "    Here are the recommended products:\n",
    "    {products}\n",
    "    \n",
    "    Generate a natural language response listing the products in a friendly tone.\n",
    "    \"\"\"\n",
    "\n",
    "    response = llm.predict(prompt)\n",
    "    return response\n",
    "\n",
    "# Generate response\n",
    "response_text = generate_natural_language_response(query, recommended_products)\n",
    "print(response_text)"
   ]
  },
  {
   "cell_type": "markdown",
   "metadata": {},
   "source": [
    "#### Todo: \n",
    "    - Fine tune LLaMA-2 using LoRA and QLoRA?\n",
    "    - Inference and Accuracy\n",
    "    - Compare different open-source LLMs."
   ]
  }
 ],
 "metadata": {
  "kernelspec": {
   "display_name": ".venv",
   "language": "python",
   "name": "python3"
  },
  "language_info": {
   "codemirror_mode": {
    "name": "ipython",
    "version": 3
   },
   "file_extension": ".py",
   "mimetype": "text/x-python",
   "name": "python",
   "nbconvert_exporter": "python",
   "pygments_lexer": "ipython3",
   "version": "3.12.0"
  }
 },
 "nbformat": 4,
 "nbformat_minor": 2
}
