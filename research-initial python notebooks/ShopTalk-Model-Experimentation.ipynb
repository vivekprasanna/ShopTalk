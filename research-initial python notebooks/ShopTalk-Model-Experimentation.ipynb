{
 "cells": [
  {
   "cell_type": "markdown",
   "metadata": {},
   "source": [
    "#### Product recommendations in natural language using RAG and LLM\n",
    " - Embed user query using same embedding model as the vector database.(Sentence-Transformers)\n",
    " - Retrieve similar products using similarity search by query or by embeddings. (ChromaDB)\n",
    " - Generate a Natural Language Response using an LLM.\n",
    "    - Open source models: LLaMA-2/Mistral/Gemma/Phi-2\n",
    "    - ChatOpen AI  gpt-4"
   ]
  },
  {
   "cell_type": "markdown",
   "metadata": {},
   "source": [
    "#### Load Pretrained Embedding Model"
   ]
  },
  {
   "cell_type": "code",
   "execution_count": 1,
   "metadata": {},
   "outputs": [],
   "source": [
    "import pandas as pd\n",
    "import os"
   ]
  },
  {
   "cell_type": "code",
   "execution_count": 18,
   "metadata": {},
   "outputs": [],
   "source": [
    "# Define the storage path\n",
    "PERSIST_DIRECTORY = \"chromadb_vectorstore\""
   ]
  },
  {
   "cell_type": "code",
   "execution_count": null,
   "metadata": {},
   "outputs": [],
   "source": [
    "# Run this if you want to delete existing Chroma DB and start fresh DB creation. Restart before creating DB\n",
    "import shutil\n",
    "\n",
    "# Delete the existing directory\n",
    "if os.path.exists(PERSIST_DIRECTORY):\n",
    "    shutil.rmtree(PERSIST_DIRECTORY)\n",
    "    print(f\"Deleted existing ChromaDB at: {PERSIST_DIRECTORY}\")\n",
    "\n",
    "# If deleted, manually create the PERSIST_DIRECTORY again and restart to run recreation of the ChromaDB."
   ]
  },
  {
   "cell_type": "code",
   "execution_count": 4,
   "metadata": {},
   "outputs": [
    {
     "data": {
      "text/html": [
       "<div>\n",
       "<style scoped>\n",
       "    .dataframe tbody tr th:only-of-type {\n",
       "        vertical-align: middle;\n",
       "    }\n",
       "\n",
       "    .dataframe tbody tr th {\n",
       "        vertical-align: top;\n",
       "    }\n",
       "\n",
       "    .dataframe thead th {\n",
       "        text-align: right;\n",
       "    }\n",
       "</style>\n",
       "<table border=\"1\" class=\"dataframe\">\n",
       "  <thead>\n",
       "    <tr style=\"text-align: right;\">\n",
       "      <th></th>\n",
       "      <th>item_id</th>\n",
       "      <th>item_name</th>\n",
       "      <th>enhanced_product_desc</th>\n",
       "      <th>image_path</th>\n",
       "      <th>image_caption</th>\n",
       "      <th>complete_product_description</th>\n",
       "    </tr>\n",
       "  </thead>\n",
       "  <tbody>\n",
       "    <tr>\n",
       "      <th>0</th>\n",
       "      <td>B07BDX9RLR</td>\n",
       "      <td>Amazon Brand - Symbol Men's Black Sneakers - 1...</td>\n",
       "      <td>Given Product description: , Care Instructions...</td>\n",
       "      <td>0a/0a9b5866.jpg</td>\n",
       "      <td>a pair of black and white sneakers</td>\n",
       "      <td>a pair of black and white sneakers Given Produ...</td>\n",
       "    </tr>\n",
       "    <tr>\n",
       "      <th>1</th>\n",
       "      <td>B07913ZLB3</td>\n",
       "      <td>Amazon Brand - Symbol Men's Navy Polyester Sne...</td>\n",
       "      <td>Given Product description: , Care Instructions...</td>\n",
       "      <td>f8/f8aa278f.jpg</td>\n",
       "      <td>men ' s sneakers - navy</td>\n",
       "      <td>men ' s sneakers - navy Given Product descript...</td>\n",
       "    </tr>\n",
       "    <tr>\n",
       "      <th>2</th>\n",
       "      <td>B07TBV6ZJT</td>\n",
       "      <td>Amazon Brand - Solimo Designer Candle Light 3D...</td>\n",
       "      <td>Given Product description: , None, brand: Amaz...</td>\n",
       "      <td>ea/ea7a5dae.jpg</td>\n",
       "      <td>a red candle is lit on a white background</td>\n",
       "      <td>a red candle is lit on a white background Give...</td>\n",
       "    </tr>\n",
       "    <tr>\n",
       "      <th>3</th>\n",
       "      <td>B081HP8DWN</td>\n",
       "      <td>Amazon Brand - Solimo Designer Heart Design 3D...</td>\n",
       "      <td>Given Product description: , None, brand: Amaz...</td>\n",
       "      <td>14/14177ded.jpg</td>\n",
       "      <td>a red phone case with hearts on it</td>\n",
       "      <td>a red phone case with hearts on it Given Produ...</td>\n",
       "    </tr>\n",
       "    <tr>\n",
       "      <th>4</th>\n",
       "      <td>B074H6PJKM</td>\n",
       "      <td>365 Everyday Value, Dish Soap, Fig &amp; Pear, 25 ...</td>\n",
       "      <td>Given Product description: , Brought to you by...</td>\n",
       "      <td>08/0888185d.jpg</td>\n",
       "      <td>a bottle of dish liquid</td>\n",
       "      <td>a bottle of dish liquid Given Product descript...</td>\n",
       "    </tr>\n",
       "  </tbody>\n",
       "</table>\n",
       "</div>"
      ],
      "text/plain": [
       "      item_id                                          item_name  \\\n",
       "0  B07BDX9RLR  Amazon Brand - Symbol Men's Black Sneakers - 1...   \n",
       "1  B07913ZLB3  Amazon Brand - Symbol Men's Navy Polyester Sne...   \n",
       "2  B07TBV6ZJT  Amazon Brand - Solimo Designer Candle Light 3D...   \n",
       "3  B081HP8DWN  Amazon Brand - Solimo Designer Heart Design 3D...   \n",
       "4  B074H6PJKM  365 Everyday Value, Dish Soap, Fig & Pear, 25 ...   \n",
       "\n",
       "                               enhanced_product_desc       image_path  \\\n",
       "0  Given Product description: , Care Instructions...  0a/0a9b5866.jpg   \n",
       "1  Given Product description: , Care Instructions...  f8/f8aa278f.jpg   \n",
       "2  Given Product description: , None, brand: Amaz...  ea/ea7a5dae.jpg   \n",
       "3  Given Product description: , None, brand: Amaz...  14/14177ded.jpg   \n",
       "4  Given Product description: , Brought to you by...  08/0888185d.jpg   \n",
       "\n",
       "                               image_caption  \\\n",
       "0         a pair of black and white sneakers   \n",
       "1                    men ' s sneakers - navy   \n",
       "2  a red candle is lit on a white background   \n",
       "3         a red phone case with hearts on it   \n",
       "4                    a bottle of dish liquid   \n",
       "\n",
       "                        complete_product_description  \n",
       "0  a pair of black and white sneakers Given Produ...  \n",
       "1  men ' s sneakers - navy Given Product descript...  \n",
       "2  a red candle is lit on a white background Give...  \n",
       "3  a red phone case with hearts on it Given Produ...  \n",
       "4  a bottle of dish liquid Given Product descript...  "
      ]
     },
     "execution_count": 4,
     "metadata": {},
     "output_type": "execute_result"
    }
   ],
   "source": [
    "df_sample = pd.read_csv(\"sample_20k.csv\")\n",
    "df_sample.head(5)"
   ]
  },
  {
   "cell_type": "code",
   "execution_count": null,
   "metadata": {},
   "outputs": [
    {
     "name": "stderr",
     "output_type": "stream",
     "text": [
      "/var/folders/y4/z3s1vk012bv7p_188zpx6w3c0000gn/T/ipykernel_85471/3273162594.py:7: LangChainDeprecationWarning: The class `HuggingFaceEmbeddings` was deprecated in LangChain 0.2.2 and will be removed in 1.0. An updated version of the class exists in the :class:`~langchain-huggingface package and should be used instead. To use it run `pip install -U :class:`~langchain-huggingface` and import as `from :class:`~langchain_huggingface import HuggingFaceEmbeddings``.\n",
      "  embeddings = HuggingFaceEmbeddings(model_name=\"sentence-transformers/all-MiniLM-L6-v2\")\n",
      "/var/folders/y4/z3s1vk012bv7p_188zpx6w3c0000gn/T/ipykernel_85471/3273162594.py:8: LangChainDeprecationWarning: The class `Chroma` was deprecated in LangChain 0.2.9 and will be removed in 1.0. An updated version of the class exists in the :class:`~langchain-chroma package and should be used instead. To use it run `pip install -U :class:`~langchain-chroma` and import as `from :class:`~langchain_chroma import Chroma``.\n",
      "  vectorstore = Chroma(embedding_function=embeddings, persist_directory=PERSIST_DIRECTORY)  # Pass embeddings to Chroma\n"
     ]
    },
    {
     "name": "stdout",
     "output_type": "stream",
     "text": [
      "Embeddings generated and vector store saved to: chromadb_vectorstore\n"
     ]
    }
   ],
   "source": [
    "from langchain.embeddings import HuggingFaceEmbeddings\n",
    "from langchain.vectorstores import Chroma\n",
    "\n",
    "\n",
    "PERSIST_DIRECTORY = \"chromadb_vectorstore\"\n",
    "# Initialize ChromaDB and OpenAI embeddings\n",
    "embeddings = HuggingFaceEmbeddings(model_name=\"sentence-transformers/all-MiniLM-L6-v2\")\n",
    "vectorstore = Chroma(embedding_function=embeddings, persist_directory=PERSIST_DIRECTORY)  # Pass embeddings to Chroma\n",
    "\n",
    "# Store product embeddings\n",
    "docs = [{'id': i, 'text': row['complete_product_description']} for i, row in df_sample.iterrows()]\n",
    "vectorstore.add_texts(texts=[doc['text'] for doc in docs], metadatas=docs)\n",
    "\n",
    "print(\"Embeddings generated and vector store saved to:\", PERSIST_DIRECTORY)"
   ]
  },
  {
   "cell_type": "code",
   "execution_count": 5,
   "metadata": {},
   "outputs": [
    {
     "data": {
      "text/plain": [
       "item_id                                                                B07DJ8WC8G\n",
       "item_name                       Amazon Brand - Symbol Men's Black/Blue Canvas ...\n",
       "enhanced_product_desc           Given Product description: , Care Instructions...\n",
       "image_path                                                        3f/3f38d885.jpg\n",
       "image_caption                   men ' s sneakers in black and grey with red st...\n",
       "complete_product_description    men ' s sneakers in black and grey with red st...\n",
       "Name: 1597, dtype: object"
      ]
     },
     "execution_count": 5,
     "metadata": {},
     "output_type": "execute_result"
    }
   ],
   "source": [
    "df_sample.iloc[1597]"
   ]
  },
  {
   "cell_type": "code",
   "execution_count": null,
   "metadata": {},
   "outputs": [],
   "source": [
    "from langchain.embeddings import HuggingFaceEmbeddings\n",
    "from langchain.vectorstores import Chroma\n",
    "\n",
    "# Initialize ChromaDB and OpenAI embeddings\n",
    "embeddings = HuggingFaceEmbeddings(model_name=\"sentence-transformers/all-MiniLM-L6-v2\")\n",
    "vectorstore = Chroma(embedding_function=embeddings, persist_directory=PERSIST_DIRECTORY)  # Pass embeddings to Chroma"
   ]
  },
  {
   "cell_type": "markdown",
   "metadata": {},
   "source": [
    "### Retrieve similar products"
   ]
  },
  {
   "cell_type": "code",
   "execution_count": 12,
   "metadata": {},
   "outputs": [
    {
     "name": "stdout",
     "output_type": "stream",
     "text": [
      "Doc: page_content='men ' s sneakers in black and grey with red stripes Given Product description: , Care Instructions: Allow your pair of shoes to air and de-odorize at regular basis; Using a Shoe-horn to wear your shoes will avoid damage to the back of your shoes; Use Shoe bags to prevent any stains or mildew., brand: Amazon Brand - Symbol, weight: , color: Black/Blue, height: 1176.0, width: 2560.0, model year: , shape: , style: AZ-SH-05D_Black/Blue_11, material: Canvas, product_type: SHOES' metadata={'id': 1597, 'text': \"men ' s sneakers in black and grey with red stripes Given Product description: , Care Instructions: Allow your pair of shoes to air and de-odorize at regular basis; Using a Shoe-horn to wear your shoes will avoid damage to the back of your shoes; Use Shoe bags to prevent any stains or mildew., brand: Amazon Brand - Symbol, weight: , color: Black/Blue, height: 1176.0, width: 2560.0, model year: , shape: , style: AZ-SH-05D_Black/Blue_11, material: Canvas, product_type: SHOES\"}\n",
      "metadata: {'id': 1597, 'text': \"men ' s sneakers in black and grey with red stripes Given Product description: , Care Instructions: Allow your pair of shoes to air and de-odorize at regular basis; Using a Shoe-horn to wear your shoes will avoid damage to the back of your shoes; Use Shoe bags to prevent any stains or mildew., brand: Amazon Brand - Symbol, weight: , color: Black/Blue, height: 1176.0, width: 2560.0, model year: , shape: , style: AZ-SH-05D_Black/Blue_11, material: Canvas, product_type: SHOES\"}\n",
      "image_url: 3f/3f38d885.jpg\n",
      "--------\n",
      "Doc: page_content='a black sneaker with white soles Given Product description: , Designed in Europe - please refer to size chart for specific measurements to achieve the perfect fit, brand: find., weight: , color: Black (Black), height: 585.0, width: 1530.0, model year: 2017.0, shape: , style: Men's Retro Trainer Sneakers, material: , product_type: SHOES' metadata={'id': 13187, 'text': \"a black sneaker with white soles Given Product description: , Designed in Europe - please refer to size chart for specific measurements to achieve the perfect fit, brand: find., weight: , color: Black (Black), height: 585.0, width: 1530.0, model year: 2017.0, shape: , style: Men's Retro Trainer Sneakers, material: , product_type: SHOES\"}\n",
      "metadata: {'id': 13187, 'text': \"a black sneaker with white soles Given Product description: , Designed in Europe - please refer to size chart for specific measurements to achieve the perfect fit, brand: find., weight: , color: Black (Black), height: 585.0, width: 1530.0, model year: 2017.0, shape: , style: Men's Retro Trainer Sneakers, material: , product_type: SHOES\"}\n",
      "image_url: ad/adba4e0c.jpg\n",
      "--------\n",
      "Doc: page_content='a picture of a black leather sneaker Given Product description: , Care Instructions: Allow your pair of shoes to air and de-odorize at regular basis; Use Shoe bags to prevent any stains or mildew; Dust any dry dirt from the surface using a clean cloth; Do not use Polish or Shiner., brand: Amazon Brand - Inkast Denim Co., weight: , color: D.GREY, height: 1407.0, width: 2560.0, model year: , shape: , style: Sneakers, material: , product_type: SHOES' metadata={'id': 11906, 'text': 'a picture of a black leather sneaker Given Product description: , Care Instructions: Allow your pair of shoes to air and de-odorize at regular basis; Use Shoe bags to prevent any stains or mildew; Dust any dry dirt from the surface using a clean cloth; Do not use Polish or Shiner., brand: Amazon Brand - Inkast Denim Co., weight: , color: D.GREY, height: 1407.0, width: 2560.0, model year: , shape: , style: Sneakers, material: , product_type: SHOES'}\n",
      "metadata: {'id': 11906, 'text': 'a picture of a black leather sneaker Given Product description: , Care Instructions: Allow your pair of shoes to air and de-odorize at regular basis; Use Shoe bags to prevent any stains or mildew; Dust any dry dirt from the surface using a clean cloth; Do not use Polish or Shiner., brand: Amazon Brand - Inkast Denim Co., weight: , color: D.GREY, height: 1407.0, width: 2560.0, model year: , shape: , style: Sneakers, material: , product_type: SHOES'}\n",
      "image_url: d0/d0eb62ae.jpg\n",
      "--------\n",
      "Doc: page_content='men ' s sneakers in white Given Product description: , Engineered for comfort, this sneaker includes an extra-thick foam cushioned insole for added support, brand: CARE OF by PUMA, weight: , color: White, height: 2560.0, width: 1969.0, model year: 2019.0, shape: , style: , material: Leather, product_type: SHOES' metadata={'id': 17211, 'text': \"men ' s sneakers in white Given Product description: , Engineered for comfort, this sneaker includes an extra-thick foam cushioned insole for added support, brand: CARE OF by PUMA, weight: , color: White, height: 2560.0, width: 1969.0, model year: 2019.0, shape: , style: , material: Leather, product_type: SHOES\"}\n",
      "metadata: {'id': 17211, 'text': \"men ' s sneakers in white Given Product description: , Engineered for comfort, this sneaker includes an extra-thick foam cushioned insole for added support, brand: CARE OF by PUMA, weight: , color: White, height: 2560.0, width: 1969.0, model year: 2019.0, shape: , style: , material: Leather, product_type: SHOES\"}\n",
      "image_url: 45/45e02721.jpg\n",
      "--------\n",
      "Doc: page_content='men ' s sneakers in white Given Product description: , Engineered for comfort, this sneaker includes an extra-thick foam cushioned insole for added support, brand: CARE OF by PUMA, weight: , color: White, height: 2560.0, width: 1969.0, model year: 2019.0, shape: , style: , material: Leather, product_type: SHOES' metadata={'id': 18220, 'text': \"men ' s sneakers in white Given Product description: , Engineered for comfort, this sneaker includes an extra-thick foam cushioned insole for added support, brand: CARE OF by PUMA, weight: , color: White, height: 2560.0, width: 1969.0, model year: 2019.0, shape: , style: , material: Leather, product_type: SHOES\"}\n",
      "metadata: {'id': 18220, 'text': \"men ' s sneakers in white Given Product description: , Engineered for comfort, this sneaker includes an extra-thick foam cushioned insole for added support, brand: CARE OF by PUMA, weight: , color: White, height: 2560.0, width: 1969.0, model year: 2019.0, shape: , style: , material: Leather, product_type: SHOES\"}\n",
      "image_url: 45/45e02721.jpg\n",
      "--------\n",
      "Doc: page_content='a black and white sneaker on a white background Given Product description: , Care Instructions: Allow your pair of shoes to air and de-odorize at regular basis; Using a Shoe-horn to wear your shoes will avoid damage to the back of your shoes; Use Shoe bags to prevent any stains or mildew., brand: Amazon Brand - Symbol, weight: , color: Black, height: 1331.0, width: 2416.0, model year: , shape: , style: low-top, material: Synthetic, product_type: SHOES' metadata={'id': 4003, 'text': 'a black and white sneaker on a white background Given Product description: , Care Instructions: Allow your pair of shoes to air and de-odorize at regular basis; Using a Shoe-horn to wear your shoes will avoid damage to the back of your shoes; Use Shoe bags to prevent any stains or mildew., brand: Amazon Brand - Symbol, weight: , color: Black, height: 1331.0, width: 2416.0, model year: , shape: , style: low-top, material: Synthetic, product_type: SHOES'}\n",
      "metadata: {'id': 4003, 'text': 'a black and white sneaker on a white background Given Product description: , Care Instructions: Allow your pair of shoes to air and de-odorize at regular basis; Using a Shoe-horn to wear your shoes will avoid damage to the back of your shoes; Use Shoe bags to prevent any stains or mildew., brand: Amazon Brand - Symbol, weight: , color: Black, height: 1331.0, width: 2416.0, model year: , shape: , style: low-top, material: Synthetic, product_type: SHOES'}\n",
      "image_url: 80/803d8cfd.jpg\n",
      "--------\n",
      "Doc: page_content='a black and white sneaker on a white background Given Product description: , Care Instructions: Allow your pair of shoes to air and de-odorize at regular basis; use shoe bags to prevent any stains or mildew; dust any dry dirt from the surface using a clean cloth; do not use polish or shiner, brand: Amazon Brand - Symbol, weight: , color: , height: 1331.0, width: 2416.0, model year: , shape: , style: , material: Synthetic, product_type: SHOES' metadata={'id': 11635, 'text': 'a black and white sneaker on a white background Given Product description: , Care Instructions: Allow your pair of shoes to air and de-odorize at regular basis; use shoe bags to prevent any stains or mildew; dust any dry dirt from the surface using a clean cloth; do not use polish or shiner, brand: Amazon Brand - Symbol, weight: , color: , height: 1331.0, width: 2416.0, model year: , shape: , style: , material: Synthetic, product_type: SHOES'}\n",
      "metadata: {'id': 11635, 'text': 'a black and white sneaker on a white background Given Product description: , Care Instructions: Allow your pair of shoes to air and de-odorize at regular basis; use shoe bags to prevent any stains or mildew; dust any dry dirt from the surface using a clean cloth; do not use polish or shiner, brand: Amazon Brand - Symbol, weight: , color: , height: 1331.0, width: 2416.0, model year: , shape: , style: , material: Synthetic, product_type: SHOES'}\n",
      "image_url: 80/803d8cfd.jpg\n",
      "--------\n",
      "Doc: page_content='women ' s sneakers in black and white Given Product description: , Engineered for comfort, this sneaker includes an extra-thick foam cushioned insole for added support, brand: CARE OF by PUMA, weight: , color: , height: 2560.0, width: 1969.0, model year: , shape: , style: 372886, material: , product_type: SHOES' metadata={'id': 3658, 'text': \"women ' s sneakers in black and white Given Product description: , Engineered for comfort, this sneaker includes an extra-thick foam cushioned insole for added support, brand: CARE OF by PUMA, weight: , color: , height: 2560.0, width: 1969.0, model year: , shape: , style: 372886, material: , product_type: SHOES\"}\n",
      "metadata: {'id': 3658, 'text': \"women ' s sneakers in black and white Given Product description: , Engineered for comfort, this sneaker includes an extra-thick foam cushioned insole for added support, brand: CARE OF by PUMA, weight: , color: , height: 2560.0, width: 1969.0, model year: , shape: , style: 372886, material: , product_type: SHOES\"}\n",
      "image_url: d2/d28a449f.jpg\n",
      "--------\n",
      "Doc: page_content='a pair of black men ' s shoes Given Product description: , Care Instructions: Allow your pair of shoes to air and de-odorize at regular basis; use shoe bags to prevent any stains or mildew; dust any dry dirt from the surface using a clean cloth; do not use polish or shiner, brand: Amazon Brand - Symbol, weight: , color: , height: 2560.0, width: 2560.0, model year: , shape: , style: , material: Synthetic, product_type: SHOES' metadata={'id': 797, 'text': \"a pair of black men ' s shoes Given Product description: , Care Instructions: Allow your pair of shoes to air and de-odorize at regular basis; use shoe bags to prevent any stains or mildew; dust any dry dirt from the surface using a clean cloth; do not use polish or shiner, brand: Amazon Brand - Symbol, weight: , color: , height: 2560.0, width: 2560.0, model year: , shape: , style: , material: Synthetic, product_type: SHOES\"}\n",
      "metadata: {'id': 797, 'text': \"a pair of black men ' s shoes Given Product description: , Care Instructions: Allow your pair of shoes to air and de-odorize at regular basis; use shoe bags to prevent any stains or mildew; dust any dry dirt from the surface using a clean cloth; do not use polish or shiner, brand: Amazon Brand - Symbol, weight: , color: , height: 2560.0, width: 2560.0, model year: , shape: , style: , material: Synthetic, product_type: SHOES\"}\n",
      "image_url: 41/412be8e0.jpg\n",
      "--------\n",
      "Doc: page_content='men ' s sneakers in white and navy Given Product description: , Engineered for comfort, this sneaker includes an extra-thick foam cushioned insole for added support, brand: CARE OF by PUMA, weight: , color: Beige, height: 2560.0, width: 1970.0, model year: 2019.0, shape: , style: 372886, material: , product_type: SHOES' metadata={'id': 9654, 'text': \"men ' s sneakers in white and navy Given Product description: , Engineered for comfort, this sneaker includes an extra-thick foam cushioned insole for added support, brand: CARE OF by PUMA, weight: , color: Beige, height: 2560.0, width: 1970.0, model year: 2019.0, shape: , style: 372886, material: , product_type: SHOES\"}\n",
      "metadata: {'id': 9654, 'text': \"men ' s sneakers in white and navy Given Product description: , Engineered for comfort, this sneaker includes an extra-thick foam cushioned insole for added support, brand: CARE OF by PUMA, weight: , color: Beige, height: 2560.0, width: 1970.0, model year: 2019.0, shape: , style: 372886, material: , product_type: SHOES\"}\n",
      "image_url: 82/821b4a4a.jpg\n",
      "--------\n"
     ]
    }
   ],
   "source": [
    "### Retrieve Similar Products\n",
    "def retrieve_similar_products(query, top_k=10):\n",
    "    \"\"\"Retrieve the top-K similar products based on the query.\"\"\"\n",
    "    results = vectorstore.similarity_search(query, k=top_k)  # Get top 5 matches\n",
    "    \n",
    "    recommended_products = []\n",
    "    for doc in results:\n",
    "        id = doc.metadata.get(\"id\")\n",
    "        image_path = df_sample.iloc[id]['image_path']\n",
    "        if not image_path or pd.isna(image_path):\n",
    "            image_path = \"No image available\"\n",
    "        recommended_products.append({\n",
    "            \"product_description\": doc.page_content,  # Retrieved text\n",
    "            \"product_image\": image_path,  # Image link\n",
    "        })\n",
    "        print(f\"Doc: {doc}\")\n",
    "        print(f\"metadata: {doc.metadata}\")\n",
    "        print(f\"image_url: {image_path}\")\n",
    "        print(\"--------\")\n",
    "    \n",
    "    return recommended_products\n",
    "\n",
    "# Example user query\n",
    "query = \"Find me Men's Sneaker in black color\"\n",
    "recommended_products = retrieve_similar_products(query)"
   ]
  },
  {
   "cell_type": "code",
   "execution_count": null,
   "metadata": {},
   "outputs": [
    {
     "data": {
      "text/plain": [
       "item_id                                                                B07DJ8WC8G\n",
       "item_name                       Amazon Brand - Symbol Men's Black/Blue Canvas ...\n",
       "enhanced_product_desc           Given Product description: , Care Instructions...\n",
       "image_path                                                        3f/3f38d885.jpg\n",
       "image_caption                   men ' s sneakers in black and grey with red st...\n",
       "complete_product_description    men ' s sneakers in black and grey with red st...\n",
       "Name: 1597, dtype: object"
      ]
     },
     "execution_count": 11,
     "metadata": {},
     "output_type": "execute_result"
    }
   ],
   "source": [
    "df_sample.iloc[1597]"
   ]
  },
  {
   "cell_type": "code",
   "execution_count": 13,
   "metadata": {},
   "outputs": [
    {
     "data": {
      "text/plain": [
       "'3f/3f38d885.jpg'"
      ]
     },
     "execution_count": 13,
     "metadata": {},
     "output_type": "execute_result"
    }
   ],
   "source": [
    "df_sample.iloc[1597]['image_path']"
   ]
  },
  {
   "cell_type": "code",
   "execution_count": 13,
   "metadata": {},
   "outputs": [
    {
     "name": "stdout",
     "output_type": "stream",
     "text": [
      "Result 1:\n",
      "Product Description: men ' s sneakers in black and grey with red stripes Given Product description: , Care Instructions: Allow your pair of shoes to air and de-odorize at regular basis; Using a Shoe-horn to wear your shoes will avoid damage to the back of your shoes; Use Shoe bags to prevent any stains or mildew., brand: Amazon Brand - Symbol, weight: , color: Black/Blue, height: 1176.0, width: 2560.0, model year: , shape: , style: AZ-SH-05D_Black/Blue_11, material: Canvas, product_type: SHOES\n",
      "Product Image: 3f/3f38d885.jpg\n",
      "---\n",
      "Result 2:\n",
      "Product Description: a black sneaker with white soles Given Product description: , Designed in Europe - please refer to size chart for specific measurements to achieve the perfect fit, brand: find., weight: , color: Black (Black), height: 585.0, width: 1530.0, model year: 2017.0, shape: , style: Men's Retro Trainer Sneakers, material: , product_type: SHOES\n",
      "Product Image: ad/adba4e0c.jpg\n",
      "---\n",
      "Result 3:\n",
      "Product Description: a picture of a black leather sneaker Given Product description: , Care Instructions: Allow your pair of shoes to air and de-odorize at regular basis; Use Shoe bags to prevent any stains or mildew; Dust any dry dirt from the surface using a clean cloth; Do not use Polish or Shiner., brand: Amazon Brand - Inkast Denim Co., weight: , color: D.GREY, height: 1407.0, width: 2560.0, model year: , shape: , style: Sneakers, material: , product_type: SHOES\n",
      "Product Image: d0/d0eb62ae.jpg\n",
      "---\n",
      "Result 4:\n",
      "Product Description: men ' s sneakers in white Given Product description: , Engineered for comfort, this sneaker includes an extra-thick foam cushioned insole for added support, brand: CARE OF by PUMA, weight: , color: White, height: 2560.0, width: 1969.0, model year: 2019.0, shape: , style: , material: Leather, product_type: SHOES\n",
      "Product Image: 45/45e02721.jpg\n",
      "---\n",
      "Result 5:\n",
      "Product Description: men ' s sneakers in white Given Product description: , Engineered for comfort, this sneaker includes an extra-thick foam cushioned insole for added support, brand: CARE OF by PUMA, weight: , color: White, height: 2560.0, width: 1969.0, model year: 2019.0, shape: , style: , material: Leather, product_type: SHOES\n",
      "Product Image: 45/45e02721.jpg\n",
      "---\n",
      "Result 6:\n",
      "Product Description: a black and white sneaker on a white background Given Product description: , Care Instructions: Allow your pair of shoes to air and de-odorize at regular basis; Using a Shoe-horn to wear your shoes will avoid damage to the back of your shoes; Use Shoe bags to prevent any stains or mildew., brand: Amazon Brand - Symbol, weight: , color: Black, height: 1331.0, width: 2416.0, model year: , shape: , style: low-top, material: Synthetic, product_type: SHOES\n",
      "Product Image: 80/803d8cfd.jpg\n",
      "---\n",
      "Result 7:\n",
      "Product Description: a black and white sneaker on a white background Given Product description: , Care Instructions: Allow your pair of shoes to air and de-odorize at regular basis; use shoe bags to prevent any stains or mildew; dust any dry dirt from the surface using a clean cloth; do not use polish or shiner, brand: Amazon Brand - Symbol, weight: , color: , height: 1331.0, width: 2416.0, model year: , shape: , style: , material: Synthetic, product_type: SHOES\n",
      "Product Image: 80/803d8cfd.jpg\n",
      "---\n",
      "Result 8:\n",
      "Product Description: women ' s sneakers in black and white Given Product description: , Engineered for comfort, this sneaker includes an extra-thick foam cushioned insole for added support, brand: CARE OF by PUMA, weight: , color: , height: 2560.0, width: 1969.0, model year: , shape: , style: 372886, material: , product_type: SHOES\n",
      "Product Image: d2/d28a449f.jpg\n",
      "---\n",
      "Result 9:\n",
      "Product Description: a pair of black men ' s shoes Given Product description: , Care Instructions: Allow your pair of shoes to air and de-odorize at regular basis; use shoe bags to prevent any stains or mildew; dust any dry dirt from the surface using a clean cloth; do not use polish or shiner, brand: Amazon Brand - Symbol, weight: , color: , height: 2560.0, width: 2560.0, model year: , shape: , style: , material: Synthetic, product_type: SHOES\n",
      "Product Image: 41/412be8e0.jpg\n",
      "---\n",
      "Result 10:\n",
      "Product Description: men ' s sneakers in white and navy Given Product description: , Engineered for comfort, this sneaker includes an extra-thick foam cushioned insole for added support, brand: CARE OF by PUMA, weight: , color: Beige, height: 2560.0, width: 1970.0, model year: 2019.0, shape: , style: 372886, material: , product_type: SHOES\n",
      "Product Image: 82/821b4a4a.jpg\n",
      "---\n"
     ]
    }
   ],
   "source": [
    "# Print the recommended products\n",
    "for i, result in enumerate(recommended_products):\n",
    "    print(f\"Result {i+1}:\")\n",
    "    print(f\"Product Description: {result['product_description']}\")\n",
    "    print(f\"Product Image: {result['product_image']}\")\n",
    "    print(\"---\")"
   ]
  },
  {
   "cell_type": "markdown",
   "metadata": {},
   "source": [
    "#### Generate Natual Language Response using LLM"
   ]
  },
  {
   "cell_type": "code",
   "execution_count": 14,
   "metadata": {},
   "outputs": [
    {
     "name": "stderr",
     "output_type": "stream",
     "text": [
      "huggingface/tokenizers: The current process just got forked, after parallelism has already been used. Disabling parallelism to avoid deadlocks...\n",
      "To disable this warning, you can either:\n",
      "\t- Avoid using `tokenizers` before the fork if possible\n",
      "\t- Explicitly set the environment variable TOKENIZERS_PARALLELISM=(true | false)\n"
     ]
    },
    {
     "name": "stdout",
     "output_type": "stream",
     "text": [
      "Requirement already satisfied: python-dotenv in /Users/mitilroy/Dev/src/capstone/master/.venv/lib/python3.12/site-packages (1.0.1)\n"
     ]
    },
    {
     "name": "stderr",
     "output_type": "stream",
     "text": [
      "huggingface/tokenizers: The current process just got forked, after parallelism has already been used. Disabling parallelism to avoid deadlocks...\n",
      "To disable this warning, you can either:\n",
      "\t- Avoid using `tokenizers` before the fork if possible\n",
      "\t- Explicitly set the environment variable TOKENIZERS_PARALLELISM=(true | false)\n"
     ]
    },
    {
     "name": "stdout",
     "output_type": "stream",
     "text": [
      "Requirement already satisfied: openai in /Users/mitilroy/Dev/src/capstone/master/.venv/lib/python3.12/site-packages (1.65.4)\n",
      "Requirement already satisfied: anyio<5,>=3.5.0 in /Users/mitilroy/Dev/src/capstone/master/.venv/lib/python3.12/site-packages (from openai) (4.8.0)\n",
      "Requirement already satisfied: distro<2,>=1.7.0 in /Users/mitilroy/Dev/src/capstone/master/.venv/lib/python3.12/site-packages (from openai) (1.9.0)\n",
      "Requirement already satisfied: httpx<1,>=0.23.0 in /Users/mitilroy/Dev/src/capstone/master/.venv/lib/python3.12/site-packages (from openai) (0.28.1)\n",
      "Requirement already satisfied: jiter<1,>=0.4.0 in /Users/mitilroy/Dev/src/capstone/master/.venv/lib/python3.12/site-packages (from openai) (0.8.2)\n",
      "Requirement already satisfied: pydantic<3,>=1.9.0 in /Users/mitilroy/Dev/src/capstone/master/.venv/lib/python3.12/site-packages (from openai) (2.10.6)\n",
      "Requirement already satisfied: sniffio in /Users/mitilroy/Dev/src/capstone/master/.venv/lib/python3.12/site-packages (from openai) (1.3.1)\n",
      "Requirement already satisfied: tqdm>4 in /Users/mitilroy/Dev/src/capstone/master/.venv/lib/python3.12/site-packages (from openai) (4.67.1)\n",
      "Requirement already satisfied: typing-extensions<5,>=4.11 in /Users/mitilroy/Dev/src/capstone/master/.venv/lib/python3.12/site-packages (from openai) (4.12.2)\n",
      "Requirement already satisfied: idna>=2.8 in /Users/mitilroy/Dev/src/capstone/master/.venv/lib/python3.12/site-packages (from anyio<5,>=3.5.0->openai) (3.10)\n",
      "Requirement already satisfied: certifi in /Users/mitilroy/Dev/src/capstone/master/.venv/lib/python3.12/site-packages (from httpx<1,>=0.23.0->openai) (2025.1.31)\n",
      "Requirement already satisfied: httpcore==1.* in /Users/mitilroy/Dev/src/capstone/master/.venv/lib/python3.12/site-packages (from httpx<1,>=0.23.0->openai) (1.0.7)\n",
      "Requirement already satisfied: h11<0.15,>=0.13 in /Users/mitilroy/Dev/src/capstone/master/.venv/lib/python3.12/site-packages (from httpcore==1.*->httpx<1,>=0.23.0->openai) (0.14.0)\n",
      "Requirement already satisfied: annotated-types>=0.6.0 in /Users/mitilroy/Dev/src/capstone/master/.venv/lib/python3.12/site-packages (from pydantic<3,>=1.9.0->openai) (0.7.0)\n",
      "Requirement already satisfied: pydantic-core==2.27.2 in /Users/mitilroy/Dev/src/capstone/master/.venv/lib/python3.12/site-packages (from pydantic<3,>=1.9.0->openai) (2.27.2)\n"
     ]
    }
   ],
   "source": [
    "!pip install python-dotenv\n",
    "!pip install openai"
   ]
  },
  {
   "cell_type": "code",
   "execution_count": 15,
   "metadata": {},
   "outputs": [],
   "source": [
    "import os\n",
    "from dotenv import load_dotenv\n",
    "\n",
    "# Load environment variables from .env file\n",
    "load_dotenv()\n",
    "\n",
    "# Check if the API key is loaded correctly\n",
    "openai_api_key = os.getenv(\"OPENAI_API_KEY\")\n",
    "if not openai_api_key:\n",
    "    raise ValueError(\"OpenAI API key not found. Please set the OPENAI_API_KEY environment variable.\")"
   ]
  },
  {
   "cell_type": "code",
   "execution_count": 16,
   "metadata": {},
   "outputs": [
    {
     "name": "stderr",
     "output_type": "stream",
     "text": [
      "/var/folders/y4/z3s1vk012bv7p_188zpx6w3c0000gn/T/ipykernel_85471/3222997364.py:4: LangChainDeprecationWarning: The class `ChatOpenAI` was deprecated in LangChain 0.0.10 and will be removed in 1.0. An updated version of the class exists in the :class:`~langchain-openai package and should be used instead. To use it run `pip install -U :class:`~langchain-openai` and import as `from :class:`~langchain_openai import ChatOpenAI``.\n",
      "  llm = ChatOpenAI(model_name=\"gpt-4\", temperature=0.7)\n",
      "/var/folders/y4/z3s1vk012bv7p_188zpx6w3c0000gn/T/ipykernel_85471/3222997364.py:16: LangChainDeprecationWarning: The method `BaseChatModel.predict` was deprecated in langchain-core 0.1.7 and will be removed in 1.0. Use :meth:`~invoke` instead.\n",
      "  response = llm.predict(prompt)\n"
     ]
    },
    {
     "name": "stdout",
     "output_type": "stream",
     "text": [
      "Sure, I found several great options for men's sneakers in black color for you:\n",
      "\n",
      "1. [Amazon Brand - Symbol Men's Sneakers](3f/3f38d885.jpg) in black and blue color. They have red stripes and are made of canvas. They also come with care instructions to help maintain their look.\n",
      "\n",
      "2. [find. Men's Retro Trainer Sneakers](ad/adba4e0c.jpg) in black color. These were designed in Europe in 2017 and feature white soles.\n",
      "\n",
      "3. [Amazon Brand - Inkast Denim Co. Sneaker](d0/d0eb62ae.jpg) is a black leather sneaker. It comes with care instructions to ensure longevity.\n",
      "\n",
      "4. [Amazon Brand - Symbol Sneaker](80/803d8cfd.jpg) is a black and white sneaker. It's a low-top style made of synthetic material.\n",
      "\n",
      "5. [Amazon Brand - Symbol Men's Shoes](41/412be8e0.jpg) are another great option. They are black and made of synthetic material.\n",
      "\n",
      "Please note that some of these sneakers have specific care instructions to maintain their look and longevity. Feel free to click on the links to view the images and let me know if you'd like more details on any of these options!\n"
     ]
    }
   ],
   "source": [
    "from langchain.chat_models import ChatOpenAI\n",
    "\n",
    "# Load an LLM (GPT-4 for best responses, or use an open-source model)\n",
    "llm = ChatOpenAI(model_name=\"gpt-4\", temperature=0.7)\n",
    "\n",
    "def generate_natural_language_response(query, products):\n",
    "    \"\"\"Generate a response based on retrieved products using LLM.\"\"\"\n",
    "    prompt = f\"\"\"\n",
    "    A customer is looking for a product based on this query: \"{query}\"\n",
    "    Here are the recommended products:\n",
    "    {products}\n",
    "    \n",
    "    Generate a natural language response listing the products in a friendly tone.\n",
    "    \"\"\"\n",
    "\n",
    "    response = llm.predict(prompt)\n",
    "    return response\n",
    "\n",
    "# Generate response\n",
    "response_text = generate_natural_language_response(query, recommended_products)\n",
    "print(response_text)"
   ]
  },
  {
   "cell_type": "markdown",
   "metadata": {},
   "source": [
    "#### Todo: \n",
    "    - Fine tune LLaMA-2 using LoRA and QLoRA?\n",
    "    - Inference and Accuracy\n",
    "    - Compare different open-source LLMs."
   ]
  }
 ],
 "metadata": {
  "kernelspec": {
   "display_name": ".venv",
   "language": "python",
   "name": "python3"
  },
  "language_info": {
   "codemirror_mode": {
    "name": "ipython",
    "version": 3
   },
   "file_extension": ".py",
   "mimetype": "text/x-python",
   "name": "python",
   "nbconvert_exporter": "python",
   "pygments_lexer": "ipython3",
   "version": "3.12.0"
  }
 },
 "nbformat": 4,
 "nbformat_minor": 2
}
