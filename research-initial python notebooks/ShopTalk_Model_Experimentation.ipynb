{
 "cells": [
  {
   "cell_type": "markdown",
   "metadata": {},
   "source": [
    "#### Product recommendations in natural language using RAG and LLM\n",
    " - Embed user query using same embedding model as the vector database.(Sentence-Transformers)\n",
    " - Retrieve similar products using similarity search by query or by embeddings. (ChromaDB)\n",
    " - Generate a Natural Language Response using an LLM.\n",
    "    - Open source models: LLaMA-2/Mistral/Gemma/Phi-2\n",
    "    - ChatOpen AI  gpt-4"
   ]
  },
  {
   "cell_type": "markdown",
   "metadata": {},
   "source": [
    "#### Load Pretrained Embedding Model"
   ]
  },
  {
   "cell_type": "code",
   "execution_count": 1,
   "metadata": {},
   "outputs": [],
   "source": [
    "import pandas as pd\n",
    "import os"
   ]
  },
  {
   "cell_type": "code",
   "execution_count": 2,
   "metadata": {},
   "outputs": [],
   "source": [
    "# Define the storage path\n",
    "PERSIST_DIRECTORY = \"chromadb_vectorstore\""
   ]
  },
  {
   "cell_type": "code",
   "execution_count": 4,
   "metadata": {},
   "outputs": [
    {
     "name": "stdout",
     "output_type": "stream",
     "text": [
      "Deleted existing ChromaDB at: chromadb_vectorstore\n"
     ]
    }
   ],
   "source": [
    "# Run this if you want to delete existing Chroma DB and start fresh DB creation. Restart before creating DB\n",
    "import shutil\n",
    "\n",
    "# Delete the existing directory\n",
    "if os.path.exists(PERSIST_DIRECTORY):\n",
    "    shutil.rmtree(PERSIST_DIRECTORY)\n",
    "    print(f\"Deleted existing ChromaDB at: {PERSIST_DIRECTORY}\")\n",
    "\n",
    "# If deleted, manually create the PERSIST_DIRECTORY again and restart to run recreation of the ChromaDB."
   ]
  },
  {
   "cell_type": "code",
   "execution_count": null,
   "metadata": {},
   "outputs": [
    {
     "data": {
      "text/html": [
       "<div>\n",
       "<style scoped>\n",
       "    .dataframe tbody tr th:only-of-type {\n",
       "        vertical-align: middle;\n",
       "    }\n",
       "\n",
       "    .dataframe tbody tr th {\n",
       "        vertical-align: top;\n",
       "    }\n",
       "\n",
       "    .dataframe thead th {\n",
       "        text-align: right;\n",
       "    }\n",
       "</style>\n",
       "<table border=\"1\" class=\"dataframe\">\n",
       "  <thead>\n",
       "    <tr style=\"text-align: right;\">\n",
       "      <th></th>\n",
       "      <th>item_id</th>\n",
       "      <th>item_name</th>\n",
       "      <th>product_type</th>\n",
       "      <th>country</th>\n",
       "      <th>enhanced_product_desc</th>\n",
       "      <th>image_path</th>\n",
       "      <th>image_caption</th>\n",
       "      <th>complete_product_description</th>\n",
       "    </tr>\n",
       "  </thead>\n",
       "  <tbody>\n",
       "    <tr>\n",
       "      <th>0</th>\n",
       "      <td>B07TG4V6BV</td>\n",
       "      <td>Amazon Brand - Solimo Designer Black and White...</td>\n",
       "      <td>CELLULAR_PHONE_CASE</td>\n",
       "      <td>IN</td>\n",
       "      <td>Given Product description: , No Warranty, bran...</td>\n",
       "      <td>5f/5f39a379.jpg</td>\n",
       "      <td>a black and white phone case with a design on it</td>\n",
       "      <td>a black and white phone case with a design on ...</td>\n",
       "    </tr>\n",
       "    <tr>\n",
       "      <th>1</th>\n",
       "      <td>B07T2K5MY1</td>\n",
       "      <td>Amazon Brand - Solimo Designer Galaxy 3D Print...</td>\n",
       "      <td>CELLULAR_PHONE_CASE</td>\n",
       "      <td>IN</td>\n",
       "      <td>Given Product description: , No Warranty, bran...</td>\n",
       "      <td>4a/4ab3ead6.jpg</td>\n",
       "      <td>a phone case with an orange swirl design</td>\n",
       "      <td>a phone case with an orange swirl design Given...</td>\n",
       "    </tr>\n",
       "    <tr>\n",
       "      <th>2</th>\n",
       "      <td>B0854LLTNR</td>\n",
       "      <td>Amazon Brand - Solimo Designer Daddy's Girl an...</td>\n",
       "      <td>CELLULAR_PHONE_CASE</td>\n",
       "      <td>IN</td>\n",
       "      <td>Given Product description: , Extreme precision...</td>\n",
       "      <td>cd/cd678bbf.jpg</td>\n",
       "      <td>a black and white phone case with the words da...</td>\n",
       "      <td>a black and white phone case with the words da...</td>\n",
       "    </tr>\n",
       "    <tr>\n",
       "      <th>3</th>\n",
       "      <td>B07TGBPM1H</td>\n",
       "      <td>Amazon Brand - Solimo Designer Kiss-ing Couple...</td>\n",
       "      <td>CELLULAR_PHONE_CASE</td>\n",
       "      <td>IN</td>\n",
       "      <td>Given Product description: , None, brand: Amaz...</td>\n",
       "      <td>d4/d47d521f.jpg</td>\n",
       "      <td>a couple is silhouetted against each other pho...</td>\n",
       "      <td>a couple is silhouetted against each other pho...</td>\n",
       "    </tr>\n",
       "    <tr>\n",
       "      <th>4</th>\n",
       "      <td>B077VJDKLV</td>\n",
       "      <td>find. Women’s Flat Mule Sandals, Black, 8 UK</td>\n",
       "      <td>SANDAL</td>\n",
       "      <td>GB</td>\n",
       "      <td>Given Product description: , Leather look uppe...</td>\n",
       "      <td>8e/8e2b2da0.jpg</td>\n",
       "      <td>a pair of black sandals on a white background</td>\n",
       "      <td>a pair of black sandals on a white background ...</td>\n",
       "    </tr>\n",
       "  </tbody>\n",
       "</table>\n",
       "</div>"
      ],
      "text/plain": [
       "      item_id                                          item_name  \\\n",
       "0  B07TG4V6BV  Amazon Brand - Solimo Designer Black and White...   \n",
       "1  B07T2K5MY1  Amazon Brand - Solimo Designer Galaxy 3D Print...   \n",
       "2  B0854LLTNR  Amazon Brand - Solimo Designer Daddy's Girl an...   \n",
       "3  B07TGBPM1H  Amazon Brand - Solimo Designer Kiss-ing Couple...   \n",
       "4  B077VJDKLV       find. Women’s Flat Mule Sandals, Black, 8 UK   \n",
       "\n",
       "          product_type country  \\\n",
       "0  CELLULAR_PHONE_CASE      IN   \n",
       "1  CELLULAR_PHONE_CASE      IN   \n",
       "2  CELLULAR_PHONE_CASE      IN   \n",
       "3  CELLULAR_PHONE_CASE      IN   \n",
       "4               SANDAL      GB   \n",
       "\n",
       "                               enhanced_product_desc       image_path  \\\n",
       "0  Given Product description: , No Warranty, bran...  5f/5f39a379.jpg   \n",
       "1  Given Product description: , No Warranty, bran...  4a/4ab3ead6.jpg   \n",
       "2  Given Product description: , Extreme precision...  cd/cd678bbf.jpg   \n",
       "3  Given Product description: , None, brand: Amaz...  d4/d47d521f.jpg   \n",
       "4  Given Product description: , Leather look uppe...  8e/8e2b2da0.jpg   \n",
       "\n",
       "                                       image_caption  \\\n",
       "0   a black and white phone case with a design on it   \n",
       "1           a phone case with an orange swirl design   \n",
       "2  a black and white phone case with the words da...   \n",
       "3  a couple is silhouetted against each other pho...   \n",
       "4      a pair of black sandals on a white background   \n",
       "\n",
       "                        complete_product_description  \n",
       "0  a black and white phone case with a design on ...  \n",
       "1  a phone case with an orange swirl design Given...  \n",
       "2  a black and white phone case with the words da...  \n",
       "3  a couple is silhouetted against each other pho...  \n",
       "4  a pair of black sandals on a white background ...  "
      ]
     },
     "execution_count": 3,
     "metadata": {},
     "output_type": "execute_result"
    }
   ],
   "source": [
    "SAMPLE_FILE = \"sample_20k.csv\"\n",
    "\n",
    "df_sample = pd.read_csv(SAMPLE_FILE)\n",
    "df_sample.head(5)"
   ]
  },
  {
   "cell_type": "code",
   "execution_count": 4,
   "metadata": {},
   "outputs": [
    {
     "name": "stderr",
     "output_type": "stream",
     "text": [
      "/var/folders/y4/z3s1vk012bv7p_188zpx6w3c0000gn/T/ipykernel_3420/1853078797.py:7: LangChainDeprecationWarning: The class `HuggingFaceEmbeddings` was deprecated in LangChain 0.2.2 and will be removed in 1.0. An updated version of the class exists in the :class:`~langchain-huggingface package and should be used instead. To use it run `pip install -U :class:`~langchain-huggingface` and import as `from :class:`~langchain_huggingface import HuggingFaceEmbeddings``.\n",
      "  embeddings = HuggingFaceEmbeddings(model_name=\"sentence-transformers/all-MiniLM-L6-v2\")\n",
      "/Users/mitilroy/Dev/src/capstone/master/ShopTalk/.venv/lib/python3.13/site-packages/tqdm/auto.py:21: TqdmWarning: IProgress not found. Please update jupyter and ipywidgets. See https://ipywidgets.readthedocs.io/en/stable/user_install.html\n",
      "  from .autonotebook import tqdm as notebook_tqdm\n",
      "/var/folders/y4/z3s1vk012bv7p_188zpx6w3c0000gn/T/ipykernel_3420/1853078797.py:8: LangChainDeprecationWarning: The class `Chroma` was deprecated in LangChain 0.2.9 and will be removed in 1.0. An updated version of the class exists in the :class:`~langchain-chroma package and should be used instead. To use it run `pip install -U :class:`~langchain-chroma` and import as `from :class:`~langchain_chroma import Chroma``.\n",
      "  vectorstore = Chroma(embedding_function=embeddings, persist_directory=PERSIST_DIRECTORY)  # Pass embeddings to Chroma\n"
     ]
    },
    {
     "name": "stdout",
     "output_type": "stream",
     "text": [
      "Embeddings generated and vector store saved to: chromadb_vectorstore\n"
     ]
    }
   ],
   "source": [
    "from langchain.embeddings import HuggingFaceEmbeddings\n",
    "from langchain.vectorstores import Chroma\n",
    "\n",
    "\n",
    "PERSIST_DIRECTORY = \"chromadb_vectorstore\"\n",
    "# Initialize ChromaDB and OpenAI embeddings\n",
    "embeddings = HuggingFaceEmbeddings(model_name=\"sentence-transformers/all-MiniLM-L6-v2\")\n",
    "vectorstore = Chroma(embedding_function=embeddings, persist_directory=PERSIST_DIRECTORY)  # Pass embeddings to Chroma\n",
    "\n",
    "# Store product embeddings\n",
    "docs = [{'id': i, 'text': row['complete_product_description']} for i, row in df_sample.iterrows()]\n",
    "vectorstore.add_texts(texts=[doc['text'] for doc in docs], metadatas=docs)\n",
    "\n",
    "print(\"Embeddings generated and vector store saved to:\", PERSIST_DIRECTORY)"
   ]
  },
  {
   "cell_type": "code",
   "execution_count": 6,
   "metadata": {},
   "outputs": [],
   "source": [
    "from langchain.embeddings import HuggingFaceEmbeddings\n",
    "from langchain.vectorstores import Chroma\n",
    "\n",
    "# Initialize ChromaDB and OpenAI embeddings\n",
    "embeddings = HuggingFaceEmbeddings(model_name=\"sentence-transformers/all-MiniLM-L6-v2\")\n",
    "vectorstore = Chroma(embedding_function=embeddings, persist_directory=PERSIST_DIRECTORY)  # Pass embeddings to Chroma"
   ]
  },
  {
   "cell_type": "markdown",
   "metadata": {},
   "source": [
    "### Retrieve similar products"
   ]
  },
  {
   "cell_type": "code",
   "execution_count": 8,
   "metadata": {},
   "outputs": [
    {
     "name": "stdout",
     "output_type": "stream",
     "text": [
      "Doc: page_content='men ' s sneakers in grey and black Given Product description: , Care Instructions: Allow your pair of shoes to air and de-odorize at regular basis; Using a Shoe-horn to wear your shoes will avoid damage to the back of your shoes; Use Shoe bags to prevent any stains or mildew., brand: Amazon Brand - Inkast Denim Co., weight: , color: L.GREY, height: 1286.0, width: 2342.0, model year: , shape: , style: Sneakers, material: , product_type: SHOES' metadata={'id': 1435, 'text': \"men ' s sneakers in grey and black Given Product description: , Care Instructions: Allow your pair of shoes to air and de-odorize at regular basis; Using a Shoe-horn to wear your shoes will avoid damage to the back of your shoes; Use Shoe bags to prevent any stains or mildew., brand: Amazon Brand - Inkast Denim Co., weight: , color: L.GREY, height: 1286.0, width: 2342.0, model year: , shape: , style: Sneakers, material: , product_type: SHOES\"}\n",
      "metadata: {'id': 1435, 'text': \"men ' s sneakers in grey and black Given Product description: , Care Instructions: Allow your pair of shoes to air and de-odorize at regular basis; Using a Shoe-horn to wear your shoes will avoid damage to the back of your shoes; Use Shoe bags to prevent any stains or mildew., brand: Amazon Brand - Inkast Denim Co., weight: , color: L.GREY, height: 1286.0, width: 2342.0, model year: , shape: , style: Sneakers, material: , product_type: SHOES\"}\n",
      "image_url: d6/d6058b9c.jpg\n",
      "product_type: SHOES\n",
      "country: IN\n",
      "--------\n",
      "Doc: page_content='men ' s sneakers in black leather with white soles Given Product description: , Warranty Description: 90 days, brand: Amazon Brand - Inkast Denim Co., weight: , color: Grey, height: 1285.0, width: 2342.0, model year: , shape: , style: Sneakers, material: , product_type: SHOES' metadata={'id': 721, 'text': \"men ' s sneakers in black leather with white soles Given Product description: , Warranty Description: 90 days, brand: Amazon Brand - Inkast Denim Co., weight: , color: Grey, height: 1285.0, width: 2342.0, model year: , shape: , style: Sneakers, material: , product_type: SHOES\"}\n",
      "metadata: {'id': 721, 'text': \"men ' s sneakers in black leather with white soles Given Product description: , Warranty Description: 90 days, brand: Amazon Brand - Inkast Denim Co., weight: , color: Grey, height: 1285.0, width: 2342.0, model year: , shape: , style: Sneakers, material: , product_type: SHOES\"}\n",
      "image_url: a9/a9e01fe2.jpg\n",
      "product_type: SHOES\n",
      "country: IN\n",
      "--------\n",
      "Doc: page_content='men ' s sneakers - black Given Product description: , Care Instructions: Allow your pair of shoes to air and de-odorize at regular basis; Using a Shoe-horn to wear your shoes will avoid damage to the back of your shoes; Use Shoe bags to prevent any stains or mildew., brand: Amazon Brand - Symbol, weight: , color: Black, height: 1094.0, width: 2081.0, model year: , shape: , style: Sneakers, material: Polyester, product_type: SHOES' metadata={'id': 9790, 'text': \"men ' s sneakers - black Given Product description: , Care Instructions: Allow your pair of shoes to air and de-odorize at regular basis; Using a Shoe-horn to wear your shoes will avoid damage to the back of your shoes; Use Shoe bags to prevent any stains or mildew., brand: Amazon Brand - Symbol, weight: , color: Black, height: 1094.0, width: 2081.0, model year: , shape: , style: Sneakers, material: Polyester, product_type: SHOES\"}\n",
      "metadata: {'id': 9790, 'text': \"men ' s sneakers - black Given Product description: , Care Instructions: Allow your pair of shoes to air and de-odorize at regular basis; Using a Shoe-horn to wear your shoes will avoid damage to the back of your shoes; Use Shoe bags to prevent any stains or mildew., brand: Amazon Brand - Symbol, weight: , color: Black, height: 1094.0, width: 2081.0, model year: , shape: , style: Sneakers, material: Polyester, product_type: SHOES\"}\n",
      "image_url: 62/62e5bf81.jpg\n",
      "product_type: SHOES\n",
      "country: IN\n",
      "--------\n",
      "Doc: page_content='men ' s sneakers in black and white Given Product description: , Warranty Description: 90 days, brand: Klepe, weight: , color: BLACK/GREY, height: 1486.0, width: 2540.0, model year: , shape: , style: Running Shoes, material: Mesh, product_type: SHOES' metadata={'id': 9409, 'text': \"men ' s sneakers in black and white Given Product description: , Warranty Description: 90 days, brand: Klepe, weight: , color: BLACK/GREY, height: 1486.0, width: 2540.0, model year: , shape: , style: Running Shoes, material: Mesh, product_type: SHOES\"}\n",
      "metadata: {'id': 9409, 'text': \"men ' s sneakers in black and white Given Product description: , Warranty Description: 90 days, brand: Klepe, weight: , color: BLACK/GREY, height: 1486.0, width: 2540.0, model year: , shape: , style: Running Shoes, material: Mesh, product_type: SHOES\"}\n",
      "image_url: 63/631db35d.jpg\n",
      "product_type: SHOES\n",
      "country: IN\n",
      "--------\n",
      "Doc: page_content='men ' s sneakers in black and white Given Product description: , Warranty Description: 90 days, brand: Klepe, weight: , color: BLACK/GREY, height: 1486.0, width: 2540.0, model year: , shape: , style: Running Shoes, material: Mesh, product_type: SHOES' metadata={'id': 11534, 'text': \"men ' s sneakers in black and white Given Product description: , Warranty Description: 90 days, brand: Klepe, weight: , color: BLACK/GREY, height: 1486.0, width: 2540.0, model year: , shape: , style: Running Shoes, material: Mesh, product_type: SHOES\"}\n",
      "metadata: {'id': 11534, 'text': \"men ' s sneakers in black and white Given Product description: , Warranty Description: 90 days, brand: Klepe, weight: , color: BLACK/GREY, height: 1486.0, width: 2540.0, model year: , shape: , style: Running Shoes, material: Mesh, product_type: SHOES\"}\n",
      "image_url: 63/631db35d.jpg\n",
      "product_type: SHOES\n",
      "country: IN\n",
      "--------\n"
     ]
    }
   ],
   "source": [
    "### Retrieve Similar Products\n",
    "def retrieve_similar_products(query, top_k=5):\n",
    "    \"\"\"Retrieve the top-K similar products based on the query.\"\"\"\n",
    "    results = vectorstore.similarity_search(query, k=top_k)  # Get top 5 matches\n",
    "    \n",
    "    recommended_products = []\n",
    "    for doc in results:\n",
    "        id = doc.metadata.get(\"id\")\n",
    "        image_path = df_sample.iloc[id]['image_path']\n",
    "        if not image_path or pd.isna(image_path):\n",
    "            image_path = \"No image available\"\n",
    "        recommended_products.append({\n",
    "            \"product_description\": doc.page_content,  # Retrieved text\n",
    "            \"product_image\": image_path,  # Image link\n",
    "            \"product_type\": df_sample.iloc[id]['product_type'],\n",
    "            \"country\": df_sample.iloc[id]['country'],\n",
    "        })\n",
    "        print(f\"Doc: {doc}\")\n",
    "        print(f\"metadata: {doc.metadata}\")\n",
    "        print(f\"image_url: {image_path}\")\n",
    "        print(f\"product_type: {df_sample.iloc[id]['product_type']}\")\n",
    "        print(f\"country: {df_sample.iloc[id]['country']}\")\n",
    "        print(\"--------\")\n",
    "    \n",
    "    return recommended_products\n",
    "\n",
    "# Example user query\n",
    "query = \"Find me Men's Sneaker in black color\"\n",
    "recommended_products = retrieve_similar_products(query)"
   ]
  },
  {
   "cell_type": "code",
   "execution_count": 9,
   "metadata": {},
   "outputs": [
    {
     "data": {
      "text/plain": [
       "item_id                                                                B08547752Y\n",
       "item_name                       Amazon Brand - Solimo Designer Water Drops UV ...\n",
       "product_type                                                  CELLULAR_PHONE_CASE\n",
       "country                                                                        IN\n",
       "enhanced_product_desc           Given Product description: , Extreme precision...\n",
       "image_path                                                        3f/3f9ae223.jpg\n",
       "image_caption                   the back of a phone case with water droplets o...\n",
       "complete_product_description    the back of a phone case with water droplets o...\n",
       "Name: 1597, dtype: object"
      ]
     },
     "execution_count": 9,
     "metadata": {},
     "output_type": "execute_result"
    }
   ],
   "source": [
    "df_sample.iloc[1597]"
   ]
  },
  {
   "cell_type": "code",
   "execution_count": 10,
   "metadata": {},
   "outputs": [
    {
     "data": {
      "text/plain": [
       "'3f/3f9ae223.jpg'"
      ]
     },
     "execution_count": 10,
     "metadata": {},
     "output_type": "execute_result"
    }
   ],
   "source": [
    "df_sample.iloc[1597]['image_path']"
   ]
  },
  {
   "cell_type": "code",
   "execution_count": 11,
   "metadata": {},
   "outputs": [
    {
     "name": "stdout",
     "output_type": "stream",
     "text": [
      "Result 1:\n",
      "Product Description: men ' s sneakers in grey and black Given Product description: , Care Instructions: Allow your pair of shoes to air and de-odorize at regular basis; Using a Shoe-horn to wear your shoes will avoid damage to the back of your shoes; Use Shoe bags to prevent any stains or mildew., brand: Amazon Brand - Inkast Denim Co., weight: , color: L.GREY, height: 1286.0, width: 2342.0, model year: , shape: , style: Sneakers, material: , product_type: SHOES\n",
      "Product Image: d6/d6058b9c.jpg\n",
      "Category: SHOES\n",
      "Country: IN\n",
      "---\n",
      "Result 2:\n",
      "Product Description: men ' s sneakers in black leather with white soles Given Product description: , Warranty Description: 90 days, brand: Amazon Brand - Inkast Denim Co., weight: , color: Grey, height: 1285.0, width: 2342.0, model year: , shape: , style: Sneakers, material: , product_type: SHOES\n",
      "Product Image: a9/a9e01fe2.jpg\n",
      "Category: SHOES\n",
      "Country: IN\n",
      "---\n",
      "Result 3:\n",
      "Product Description: men ' s sneakers - black Given Product description: , Care Instructions: Allow your pair of shoes to air and de-odorize at regular basis; Using a Shoe-horn to wear your shoes will avoid damage to the back of your shoes; Use Shoe bags to prevent any stains or mildew., brand: Amazon Brand - Symbol, weight: , color: Black, height: 1094.0, width: 2081.0, model year: , shape: , style: Sneakers, material: Polyester, product_type: SHOES\n",
      "Product Image: 62/62e5bf81.jpg\n",
      "Category: SHOES\n",
      "Country: IN\n",
      "---\n",
      "Result 4:\n",
      "Product Description: men ' s sneakers in black and white Given Product description: , Warranty Description: 90 days, brand: Klepe, weight: , color: BLACK/GREY, height: 1486.0, width: 2540.0, model year: , shape: , style: Running Shoes, material: Mesh, product_type: SHOES\n",
      "Product Image: 63/631db35d.jpg\n",
      "Category: SHOES\n",
      "Country: IN\n",
      "---\n",
      "Result 5:\n",
      "Product Description: men ' s sneakers in black and white Given Product description: , Warranty Description: 90 days, brand: Klepe, weight: , color: BLACK/GREY, height: 1486.0, width: 2540.0, model year: , shape: , style: Running Shoes, material: Mesh, product_type: SHOES\n",
      "Product Image: 63/631db35d.jpg\n",
      "Category: SHOES\n",
      "Country: IN\n",
      "---\n"
     ]
    }
   ],
   "source": [
    "# Print the recommended products\n",
    "for i, result in enumerate(recommended_products):\n",
    "    print(f\"Result {i+1}:\")\n",
    "    print(f\"Product Description: {result['product_description']}\")\n",
    "    print(f\"Product Image: {result['product_image']}\")\n",
    "    print(f\"Category: {result['product_type']}\")\n",
    "    print(f\"Country: {result['country']}\")\n",
    "    print(\"---\")"
   ]
  },
  {
   "cell_type": "markdown",
   "metadata": {},
   "source": [
    "#### Generate Natual Language Response using LLM"
   ]
  },
  {
   "cell_type": "code",
   "execution_count": null,
   "metadata": {},
   "outputs": [],
   "source": [
    "!pip install python-dotenv\n",
    "!pip install openai"
   ]
  },
  {
   "cell_type": "code",
   "execution_count": 13,
   "metadata": {},
   "outputs": [],
   "source": [
    "import os\n",
    "from dotenv import load_dotenv\n",
    "\n",
    "# Load environment variables from .env file\n",
    "load_dotenv()\n",
    "\n",
    "# Check if the API key is loaded correctly\n",
    "openai_api_key = os.getenv(\"OPENAI_API_KEY\")\n",
    "if not openai_api_key:\n",
    "    raise ValueError(\"OpenAI API key not found. Please set the OPENAI_API_KEY environment variable.\")"
   ]
  },
  {
   "cell_type": "code",
   "execution_count": 16,
   "metadata": {},
   "outputs": [
    {
     "name": "stdout",
     "output_type": "stream",
     "text": [
      "Sure, here are some men's sneakers in black that you might like:\n",
      "\n",
      "1. The first is a pair of men's sneakers in grey and black from the Amazon Brand - Inkast Denim Co. This pair is made in India and comes with a handy tip to use a shoe-horn to avoid damaging the back of your shoes. You can view the image [here](d6/d6058b9c.jpg).\n",
      "\n",
      "2. The second is another pair from Amazon Brand - Inkast Denim Co. This time, it's a pair of black leather sneakers with white soles. Although the color is listed as grey, the product description mentions black. This pair also comes with a 90-day warranty and is made in India. You can see what they look like [here](a9/a9e01fe2.jpg).\n",
      "\n",
      "3. The third is a pair of black sneakers from Amazon Brand - Symbol. Made in India, these shoes come with a care instruction to allow your shoes to air and de-odorize at a regular basis. The material is listed as Polyester. Check them out [here](62/62e5bf81.jpg).\n",
      "\n",
      "4. The fourth and fifth are the same pair of black and white sneakers from Klepe. They are running shoes made in India with a mesh material. Both pairs come with a 90-day warranty. You can view the image [here](63/631db35d.jpg).\n",
      "\n",
      "I hope you find a pair you like!\n"
     ]
    }
   ],
   "source": [
    "from langchain.chat_models import ChatOpenAI\n",
    "\n",
    "# Load an LLM (GPT-4 for best responses, or use an open-source model)\n",
    "llm = ChatOpenAI(model_name=\"gpt-4\", temperature=0.7)\n",
    "\n",
    "def generate_natural_language_response(query, products):\n",
    "    \"\"\"Generate a response based on retrieved products using LLM. Include details like the product category and country where it is made.\"\"\"\n",
    "    prompt = f\"\"\"\n",
    "    A customer is looking for a product based on this query: \"{query}\"\n",
    "    Here are the recommended products:\n",
    "    {products}\n",
    "    \n",
    "    Generate a natural language response listing the products in a friendly tone. Include details like the product category and country where it is made.\n",
    "    \"\"\"\n",
    "\n",
    "    response = llm.predict(prompt)\n",
    "    return response\n",
    "\n",
    "# Generate response\n",
    "response_text = generate_natural_language_response(query, recommended_products)\n",
    "print(response_text)"
   ]
  }
 ],
 "metadata": {
  "kernelspec": {
   "display_name": ".venv",
   "language": "python",
   "name": "python3"
  },
  "language_info": {
   "codemirror_mode": {
    "name": "ipython",
    "version": 3
   },
   "file_extension": ".py",
   "mimetype": "text/x-python",
   "name": "python",
   "nbconvert_exporter": "python",
   "pygments_lexer": "ipython3",
   "version": "3.13.2"
  }
 },
 "nbformat": 4,
 "nbformat_minor": 2
}
